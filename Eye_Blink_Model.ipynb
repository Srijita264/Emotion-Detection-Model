{
  "nbformat": 4,
  "nbformat_minor": 0,
  "metadata": {
    "colab": {
      "provenance": [],
      "gpuType": "T4",
      "authorship_tag": "ABX9TyNOm4uCESxND2iWiNiPxop5",
      "include_colab_link": true
    },
    "kernelspec": {
      "name": "python3",
      "display_name": "Python 3"
    },
    "language_info": {
      "name": "python"
    },
    "accelerator": "GPU"
  },
  "cells": [
    {
      "cell_type": "markdown",
      "metadata": {
        "id": "view-in-github",
        "colab_type": "text"
      },
      "source": [
        "<a href=\"https://colab.research.google.com/github/Srijita264/Emotion-Detection-Model/blob/main/Eye_Blink_Model.ipynb\" target=\"_parent\"><img src=\"https://colab.research.google.com/assets/colab-badge.svg\" alt=\"Open In Colab\"/></a>"
      ]
    },
    {
      "cell_type": "code",
      "source": [
        "!pip install scikit-plot"
      ],
      "metadata": {
        "colab": {
          "base_uri": "https://localhost:8080/"
        },
        "id": "Qqrb5m928_qx",
        "outputId": "19934341-4645-4b66-c00a-b0c9500610c9"
      },
      "execution_count": null,
      "outputs": [
        {
          "output_type": "stream",
          "name": "stdout",
          "text": [
            "Collecting scikit-plot\n",
            "  Downloading scikit_plot-0.3.7-py3-none-any.whl (33 kB)\n",
            "Requirement already satisfied: matplotlib>=1.4.0 in /usr/local/lib/python3.10/dist-packages (from scikit-plot) (3.7.1)\n",
            "Requirement already satisfied: scikit-learn>=0.18 in /usr/local/lib/python3.10/dist-packages (from scikit-plot) (1.2.2)\n",
            "Requirement already satisfied: scipy>=0.9 in /usr/local/lib/python3.10/dist-packages (from scikit-plot) (1.11.4)\n",
            "Requirement already satisfied: joblib>=0.10 in /usr/local/lib/python3.10/dist-packages (from scikit-plot) (1.3.2)\n",
            "Requirement already satisfied: contourpy>=1.0.1 in /usr/local/lib/python3.10/dist-packages (from matplotlib>=1.4.0->scikit-plot) (1.2.0)\n",
            "Requirement already satisfied: cycler>=0.10 in /usr/local/lib/python3.10/dist-packages (from matplotlib>=1.4.0->scikit-plot) (0.12.1)\n",
            "Requirement already satisfied: fonttools>=4.22.0 in /usr/local/lib/python3.10/dist-packages (from matplotlib>=1.4.0->scikit-plot) (4.47.2)\n",
            "Requirement already satisfied: kiwisolver>=1.0.1 in /usr/local/lib/python3.10/dist-packages (from matplotlib>=1.4.0->scikit-plot) (1.4.5)\n",
            "Requirement already satisfied: numpy>=1.20 in /usr/local/lib/python3.10/dist-packages (from matplotlib>=1.4.0->scikit-plot) (1.23.5)\n",
            "Requirement already satisfied: packaging>=20.0 in /usr/local/lib/python3.10/dist-packages (from matplotlib>=1.4.0->scikit-plot) (23.2)\n",
            "Requirement already satisfied: pillow>=6.2.0 in /usr/local/lib/python3.10/dist-packages (from matplotlib>=1.4.0->scikit-plot) (9.4.0)\n",
            "Requirement already satisfied: pyparsing>=2.3.1 in /usr/local/lib/python3.10/dist-packages (from matplotlib>=1.4.0->scikit-plot) (3.1.1)\n",
            "Requirement already satisfied: python-dateutil>=2.7 in /usr/local/lib/python3.10/dist-packages (from matplotlib>=1.4.0->scikit-plot) (2.8.2)\n",
            "Requirement already satisfied: threadpoolctl>=2.0.0 in /usr/local/lib/python3.10/dist-packages (from scikit-learn>=0.18->scikit-plot) (3.2.0)\n",
            "Requirement already satisfied: six>=1.5 in /usr/local/lib/python3.10/dist-packages (from python-dateutil>=2.7->matplotlib>=1.4.0->scikit-plot) (1.16.0)\n",
            "Installing collected packages: scikit-plot\n",
            "Successfully installed scikit-plot-0.3.7\n"
          ]
        }
      ]
    },
    {
      "cell_type": "code",
      "source": [
        "from google.colab import drive\n",
        "\n",
        "drive.mount('/content/drive')\n"
      ],
      "metadata": {
        "colab": {
          "base_uri": "https://localhost:8080/"
        },
        "id": "qvblr4JW601G",
        "outputId": "2d73b04d-9320-4c0f-8f34-f309375dcd44"
      },
      "execution_count": null,
      "outputs": [
        {
          "output_type": "stream",
          "name": "stdout",
          "text": [
            "Mounted at /content/drive\n"
          ]
        }
      ]
    },
    {
      "cell_type": "code",
      "source": [
        "import cv2\n",
        "import os\n",
        "import matplotlib.pyplot as plt"
      ],
      "metadata": {
        "id": "5PIwh6EG2u3d"
      },
      "execution_count": null,
      "outputs": []
    },
    {
      "cell_type": "code",
      "source": [
        "import cv2\n",
        "import os\n",
        "\n",
        "folder_path = \"/content/drive/MyDrive/eyes/Closed_Eyes\"\n",
        "closed_eyes_images = []\n",
        "for filename in os.listdir(folder_path):\n",
        "        image_path = os.path.join(folder_path, filename)\n",
        "        img = cv2.imread(image_path)\n",
        "        closed_eyes_images.append(img)\n"
      ],
      "metadata": {
        "id": "qcHQja-ZB1Mr"
      },
      "execution_count": null,
      "outputs": []
    },
    {
      "cell_type": "code",
      "source": [
        "print(len(closed_eyes_images))"
      ],
      "metadata": {
        "colab": {
          "base_uri": "https://localhost:8080/"
        },
        "id": "hUi9l9pJlod0",
        "outputId": "f250526a-1125-4528-d99f-0338db0e6a9d"
      },
      "execution_count": null,
      "outputs": [
        {
          "output_type": "stream",
          "name": "stdout",
          "text": [
            "2000\n"
          ]
        }
      ]
    },
    {
      "cell_type": "code",
      "source": [
        "for i, image in enumerate(closed_eyes_images):\n",
        "    plt.imshow(image)\n",
        "    plt.axis('off')\n"
      ],
      "metadata": {
        "colab": {
          "base_uri": "https://localhost:8080/",
          "height": 406
        },
        "id": "OnotRjHm2jAu",
        "outputId": "cdb13639-7c44-4e06-feec-40433d822b85"
      },
      "execution_count": null,
      "outputs": [
        {
          "output_type": "display_data",
          "data": {
            "text/plain": [
              "<Figure size 640x480 with 1 Axes>"
            ],
            "image/png": "[encoded data removed]"
          },
          "metadata": {}
        }
      ]
    },
    {
      "cell_type": "code",
      "source": [
        "import cv2\n",
        "import os\n",
        "\n",
        "folder_path = \"/content/drive/MyDrive/eyes/Open_Eyes\"\n",
        "open_eyes_images = []\n",
        "for filename in os.listdir(folder_path):\n",
        "        image_path = os.path.join(folder_path, filename)\n",
        "        img = cv2.imread(image_path)\n",
        "        open_eyes_images.append(img)\n"
      ],
      "metadata": {
        "id": "6l6IxdQi2M5K"
      },
      "execution_count": null,
      "outputs": []
    },
    {
      "cell_type": "code",
      "source": [
        "print(len(open_eyes_images))"
      ],
      "metadata": {
        "colab": {
          "base_uri": "https://localhost:8080/"
        },
        "id": "q3DK2l_PluJT",
        "outputId": "895796da-35f0-4b2b-89a7-5f72a310d8aa"
      },
      "execution_count": null,
      "outputs": [
        {
          "output_type": "stream",
          "name": "stdout",
          "text": [
            "2000\n"
          ]
        }
      ]
    },
    {
      "cell_type": "code",
      "source": [
        "for i, image in enumerate(open_eyes_images):\n",
        "\n",
        "    plt.imshow(image)\n",
        "    plt.axis('off')\n"
      ],
      "metadata": {
        "colab": {
          "base_uri": "https://localhost:8080/",
          "height": 406
        },
        "id": "5ivQRTeF22DB",
        "outputId": "b42924b0-b6bc-43fa-fee2-a3d6aaa4f819"
      },
      "execution_count": null,
      "outputs": [
        {
          "output_type": "display_data",
          "data": {
            "text/plain": [
              "<Figure size 640x480 with 1 Axes>"
            ],
            "image/png": "[encoded data removed]"
          },
          "metadata": {}
        }
      ]
    },
    {
      "cell_type": "code",
      "source": [
        "import cv2\n",
        "import os\n",
        "import numpy as np\n",
        "\n",
        "# Function to read and resize images from a folder\n",
        "def read_and_resize_images(folder_path, target_size=(48, 48)):\n",
        "    images = []\n",
        "    for filename in os.listdir(folder_path):\n",
        "        image_path = os.path.join(folder_path, filename)\n",
        "        img = cv2.imread(image_path, cv2.IMREAD_GRAYSCALE)  # Read as grayscale\n",
        "        # Resize the image\n",
        "        img = cv2.resize(img, target_size)\n",
        "        # Add channel dimension (1 for grayscale)\n",
        "        img = np.expand_dims(img, axis=-1)\n",
        "        images.append(img)\n",
        "    return images\n",
        "\n",
        "# Specify the paths to the image folders\n",
        "open_eyes_folder_path = \"/content/drive/MyDrive/eyes/Open_Eyes\"\n",
        "closed_eyes_folder_path = \"/content/drive/MyDrive/eyes/Closed_Eyes\"\n",
        "\n",
        "# Read and resize images from each folder\n",
        "open_eyes_images = read_and_resize_images(open_eyes_folder_path)\n",
        "closed_eyes_images = read_and_resize_images(closed_eyes_folder_path)\n",
        "\n",
        "# Stack the arrays along a new axis to create total_images\n",
        "total_images = np.vstack([open_eyes_images, closed_eyes_images])\n",
        "\n",
        "# Print or use total_images as needed\n",
        "print(total_images.shape)  # Shape will show the number of images and their dimensions\n"
      ],
      "metadata": {
        "id": "JJyyZ6HK-blD",
        "colab": {
          "base_uri": "https://localhost:8080/"
        },
        "outputId": "1313ac91-1643-4a64-d516-b267fb03dcd0"
      },
      "execution_count": null,
      "outputs": [
        {
          "output_type": "stream",
          "name": "stdout",
          "text": [
            "(4000, 48, 48, 1)\n"
          ]
        }
      ]
    },
    {
      "cell_type": "code",
      "source": [
        "import numpy as np\n",
        "\n",
        "# Assuming you have 2000 images\n",
        "num_images = 2000\n",
        "\n",
        "# Create a label array with all 0's\n",
        "open_eyes_labels = np.ones(num_images, dtype=int)\n"
      ],
      "metadata": {
        "id": "ij5FBOi-tels"
      },
      "execution_count": null,
      "outputs": []
    },
    {
      "cell_type": "code",
      "source": [
        "import numpy as np\n",
        "\n",
        "# Assuming you have 2000 images\n",
        "num_images = 2000\n",
        "\n",
        "# Create a label array with all 0's\n",
        "closed_eyes_labels = np.zeros(num_images, dtype=int)\n"
      ],
      "metadata": {
        "id": "HiU6ROBZ_RSx"
      },
      "execution_count": null,
      "outputs": []
    },
    {
      "cell_type": "code",
      "source": [
        "print(closed_eyes_labels)"
      ],
      "metadata": {
        "colab": {
          "base_uri": "https://localhost:8080/"
        },
        "id": "_JkmNs58rxWg",
        "outputId": "9c1387d1-d262-41bb-cbf4-7619331655bd"
      },
      "execution_count": null,
      "outputs": [
        {
          "output_type": "stream",
          "name": "stdout",
          "text": [
            "[0 0 0 ... 0 0 0]\n"
          ]
        }
      ]
    },
    {
      "cell_type": "code",
      "source": [
        "total_labels = np.concatenate([open_eyes_labels, closed_eyes_labels])\n",
        "\n",
        "# Print or use total_labels as needed\n",
        "print(total_labels)\n"
      ],
      "metadata": {
        "id": "ePKitLXECRIj",
        "colab": {
          "base_uri": "https://localhost:8080/"
        },
        "outputId": "e67220b6-6629-4bf5-fd5d-8d280fcd6fb1"
      },
      "execution_count": null,
      "outputs": [
        {
          "output_type": "stream",
          "name": "stdout",
          "text": [
            "[1 1 1 ... 0 0 0]\n"
          ]
        }
      ]
    },
    {
      "cell_type": "code",
      "source": [
        "\n",
        "from sklearn.model_selection import train_test_split\n",
        "from sklearn.preprocessing import LabelEncoder\n",
        "from sklearn.metrics import classification_report\n",
        "\n",
        "import tensorflow as tf\n",
        "from tensorflow.keras import optimizers\n",
        "from tensorflow.keras.datasets import mnist\n",
        "from tensorflow.keras.models import Sequential\n",
        "from tensorflow.keras.layers import Flatten, Dense, Conv2D, MaxPooling2D\n",
        "from tensorflow.keras.layers import Dropout, BatchNormalization, LeakyReLU, Activation\n",
        "from tensorflow.keras.callbacks import Callback, EarlyStopping, ReduceLROnPlateau\n",
        "from tensorflow.keras.preprocessing.image import ImageDataGenerator\n",
        "\n",
        "from tensorflow.keras.utils import to_categorical\n",
        "import math\n",
        "import numpy as np\n",
        "import pandas as pd\n"
      ],
      "metadata": {
        "id": "lr4oM7UDqv-u"
      },
      "execution_count": null,
      "outputs": []
    },
    {
      "cell_type": "code",
      "source": [
        "df = pd.DataFrame({'labels': total_labels})\n",
        "\n",
        "# One-hot encode the 'labels' column\n",
        "one_hot_encoded = pd.get_dummies(df['labels'], prefix='label')\n",
        "\n",
        "# Convert the one-hot encoded DataFrame back to a NumPy array\n",
        "one_hot_encoded_array = one_hot_encoded.values\n"
      ],
      "metadata": {
        "id": "M7mycGNwqqT_"
      },
      "execution_count": null,
      "outputs": []
    },
    {
      "cell_type": "code",
      "source": [
        "print(one_hot_encoded_array )"
      ],
      "metadata": {
        "colab": {
          "base_uri": "https://localhost:8080/"
        },
        "id": "zVvDIaKlrWvS",
        "outputId": "b12a3ad2-354f-45a2-9863-98af19e10190"
      },
      "execution_count": null,
      "outputs": [
        {
          "output_type": "stream",
          "name": "stdout",
          "text": [
            "[[0 1]\n",
            " [0 1]\n",
            " [0 1]\n",
            " ...\n",
            " [1 0]\n",
            " [1 0]\n",
            " [1 0]]\n"
          ]
        }
      ]
    },
    {
      "cell_type": "code",
      "source": [
        "X_train = np.concatenate((total_images[:1400], total_images[2000:3400]))\n",
        "y_train = np.concatenate((one_hot_encoded_array [:1400], one_hot_encoded_array [2000:3400]))"
      ],
      "metadata": {
        "id": "Uwt08RtLyOM1"
      },
      "execution_count": null,
      "outputs": []
    },
    {
      "cell_type": "code",
      "source": [
        "X_valid = np.concatenate((total_images[1400:2000], total_images[3400:4000]))\n",
        "y_valid = np.concatenate((one_hot_encoded_array [1400:2000], one_hot_encoded_array [3400:4000]))\n"
      ],
      "metadata": {
        "id": "26U6AvGnkLw3"
      },
      "execution_count": null,
      "outputs": []
    },
    {
      "cell_type": "code",
      "source": [
        "X_train.shape, X_valid.shape, y_train.shape, y_valid.shape"
      ],
      "metadata": {
        "colab": {
          "base_uri": "https://localhost:8080/"
        },
        "id": "hxOe0UFC20dG",
        "outputId": "8f1e5da4-77e8-4e31-dcc6-40c20d976aa6"
      },
      "execution_count": null,
      "outputs": [
        {
          "output_type": "execute_result",
          "data": {
            "text/plain": [
              "((2800, 48, 48, 1), (1200, 48, 48, 1), (2800, 2), (1200, 2))"
            ]
          },
          "metadata": {},
          "execution_count": 18
        }
      ]
    },
    {
      "cell_type": "code",
      "source": [
        "X_train = X_train / 255.\n",
        "X_valid = X_valid / 255."
      ],
      "metadata": {
        "id": "XuMWIGZZ3UHi"
      },
      "execution_count": null,
      "outputs": []
    },
    {
      "cell_type": "code",
      "source": [
        "import os\n",
        "import numpy as np\n",
        "from tensorflow.keras.models import Sequential\n",
        "from tensorflow.keras.layers import Conv2D, MaxPool2D, Flatten, Dense, Dropout\n",
        "from tensorflow.keras.callbacks import ModelCheckpoint, EarlyStopping, ReduceLROnPlateau\n",
        "from tensorflow.keras.preprocessing.image import ImageDataGenerator\n",
        "from tensorflow.keras import optimizers"
      ],
      "metadata": {
        "id": "E5WfM9QZ3Zzq"
      },
      "execution_count": null,
      "outputs": []
    },
    {
      "cell_type": "code",
      "source": [
        "num_classes = 2"
      ],
      "metadata": {
        "id": "xQ2nZJ403AuV"
      },
      "execution_count": null,
      "outputs": []
    },
    {
      "cell_type": "code",
      "source": [
        "def build_net(optim):\n",
        "\n",
        "    net = Sequential(name='DCNN')\n",
        "\n",
        "    net.add(Conv2D(32, kernel_size=(3, 3), padding='same', activation='elu', input_shape=(48, 48, 1)))\n",
        "    net.add(Conv2D(32, kernel_size=(3, 3), padding='same', activation='elu'))\n",
        "    net.add(MaxPool2D(pool_size=(2, 2), strides=2, padding='valid'))\n",
        "    net.add(Conv2D(64, kernel_size=(3, 3), padding='same', activation='elu'))\n",
        "    net.add(Conv2D(64, kernel_size=(3, 3), padding='same', activation='elu'))\n",
        "    net.add(MaxPool2D(pool_size=(2, 2), strides=2, padding='valid'))\n",
        "    net.add(Conv2D(128, kernel_size=(3, 3), padding='same', activation='elu'))\n",
        "    net.add(Conv2D(128, kernel_size=(3, 3), padding='same', activation='elu'))\n",
        "    net.add(MaxPool2D(pool_size=(2, 2), strides=2, padding='valid'))\n",
        "    net.add(Conv2D(256, kernel_size=(3, 3), padding='same', activation='elu'))\n",
        "    net.add(MaxPool2D(pool_size=(2, 2), strides=2, padding='valid'))\n",
        "    net.add(Flatten())\n",
        "    net.add(Dense(256, activation='relu'))\n",
        "    net.add(Dropout(0.25))\n",
        "    net.add(Dense(128, activation='relu'))\n",
        "    net.add(\n",
        "        Dense(\n",
        "            num_classes,\n",
        "            activation='softmax',\n",
        "            name='out_layer'\n",
        "        )\n",
        "    )\n",
        "\n",
        "    net.compile(\n",
        "        loss='categorical_crossentropy',\n",
        "        optimizer=optim,\n",
        "        metrics=['accuracy']\n",
        "    )\n",
        "    net.summary()\n",
        "\n",
        "    return net\n"
      ],
      "metadata": {
        "id": "4d4E5jCt3bjG"
      },
      "execution_count": null,
      "outputs": []
    },
    {
      "cell_type": "code",
      "source": [
        "filepath = 'eye_model.h5'\n",
        "checkpoint = ModelCheckpoint(\n",
        "    filepath,\n",
        "    monitor=\"val_loss\",\n",
        "    verbose=0,\n",
        "    save_best_only=False,\n",
        "    save_weights_only=False,\n",
        "    mode=\"auto\",\n",
        "    save_freq=\"epoch\",\n",
        "    initial_value_threshold=None,\n",
        ")\n",
        "early_stopping = EarlyStopping(\n",
        "    monitor='val_accuracy',\n",
        "    min_delta=0.00005,\n",
        "    patience=11,\n",
        "    verbose=1,\n",
        ")\n",
        "\n",
        "lr_scheduler = ReduceLROnPlateau(\n",
        "    monitor='val_accuracy',\n",
        "    factor=0.5,\n",
        "    patience=7,\n",
        "    min_lr=1e-7,\n",
        "    verbose=1,\n",
        ")\n",
        "\n",
        "callbacks = [\n",
        "    early_stopping,\n",
        "    lr_scheduler,\n",
        "    checkpoint,\n",
        "]\n"
      ],
      "metadata": {
        "id": "MD4eLRSN3cRa"
      },
      "execution_count": null,
      "outputs": []
    },
    {
      "cell_type": "code",
      "source": [
        "train_datagen = ImageDataGenerator(\n",
        "    rotation_range=15,\n",
        "    width_shift_range=0.15,\n",
        "    height_shift_range=0.15,\n",
        "    shear_range=0.15,\n",
        "    zoom_range=0.15,\n",
        "    horizontal_flip=True,\n",
        ")\n",
        "train_datagen.fit(X_train)\n"
      ],
      "metadata": {
        "id": "4UlKrbYB3hfg"
      },
      "execution_count": null,
      "outputs": []
    },
    {
      "cell_type": "code",
      "source": [
        "batch_size = 32 #batch size of 32 performs the best.\n",
        "epochs = 100\n",
        "optims = [\n",
        "    optimizers.Nadam(learning_rate=0.001, beta_1=0.9, beta_2=0.999, epsilon=1e-07, name='Nadam'),\n",
        "    optimizers.Adam(0.001),\n",
        "]\n",
        "\n",
        "model = build_net(optims[1])\n",
        "history = model.fit(\n",
        "    train_datagen.flow(X_train, y_train, batch_size=batch_size),\n",
        "    validation_data=(X_valid, y_valid),\n",
        "    steps_per_epoch=len(X_train) / batch_size,\n",
        "    epochs=epochs,\n",
        "    callbacks=callbacks,\n",
        "    use_multiprocessing=True\n",
        ")\n",
        "\n"
      ],
      "metadata": {
        "colab": {
          "base_uri": "https://localhost:8080/"
        },
        "id": "TLDv28p43iZf",
        "outputId": "6c6e304d-db01-4d11-a890-1e695d0e4c2a"
      },
      "execution_count": null,
      "outputs": [
        {
          "output_type": "stream",
          "name": "stdout",
          "text": [
            "Model: \"DCNN\"\n",
            "_________________________________________________________________\n",
            " Layer (type)                Output Shape              Param #   \n",
            "=================================================================\n",
            " conv2d (Conv2D)             (None, 48, 48, 32)        320       \n",
            "                                                                 \n",
            " conv2d_1 (Conv2D)           (None, 48, 48, 32)        9248      \n",
            "                                                                 \n",
            " max_pooling2d (MaxPooling2  (None, 24, 24, 32)        0         \n",
            " D)                                                              \n",
            "                                                                 \n",
            " conv2d_2 (Conv2D)           (None, 24, 24, 64)        18496     \n",
            "                                                                 \n",
            " conv2d_3 (Conv2D)           (None, 24, 24, 64)        36928     \n",
            "                                                                 \n",
            " max_pooling2d_1 (MaxPoolin  (None, 12, 12, 64)        0         \n",
            " g2D)                                                            \n",
            "                                                                 \n",
            " conv2d_4 (Conv2D)           (None, 12, 12, 128)       73856     \n",
            "                                                                 \n",
            " conv2d_5 (Conv2D)           (None, 12, 12, 128)       147584    \n",
            "                                                                 \n",
            " max_pooling2d_2 (MaxPoolin  (None, 6, 6, 128)         0         \n",
            " g2D)                                                            \n",
            "                                                                 \n",
            " conv2d_6 (Conv2D)           (None, 6, 6, 256)         295168    \n",
            "                                                                 \n",
            " max_pooling2d_3 (MaxPoolin  (None, 3, 3, 256)         0         \n",
            " g2D)                                                            \n",
            "                                                                 \n",
            " flatten (Flatten)           (None, 2304)              0         \n",
            "                                                                 \n",
            " dense (Dense)               (None, 256)               590080    \n",
            "                                                                 \n",
            " dropout (Dropout)           (None, 256)               0         \n",
            "                                                                 \n",
            " dense_1 (Dense)             (None, 128)               32896     \n",
            "                                                                 \n",
            " out_layer (Dense)           (None, 2)                 258       \n",
            "                                                                 \n",
            "=================================================================\n",
            "Total params: 1204834 (4.60 MB)\n",
            "Trainable params: 1204834 (4.60 MB)\n",
            "Non-trainable params: 0 (0.00 Byte)\n",
            "_________________________________________________________________\n",
            "Epoch 1/100\n",
            "87/87 [==============================] - 12s 42ms/step - loss: 0.5102 - accuracy: 0.7221 - val_loss: 0.1838 - val_accuracy: 0.8942 - lr: 0.0010\n",
            "Epoch 2/100\n"
          ]
        },
        {
          "output_type": "stream",
          "name": "stderr",
          "text": [
            "/usr/local/lib/python3.10/dist-packages/keras/src/engine/training.py:3103: UserWarning: You are saving your model as an HDF5 file via `model.save()`. This file format is considered legacy. We recommend using instead the native Keras format, e.g. `model.save('my_model.keras')`.\n",
            "  saving_api.save_model(\n"
          ]
        },
        {
          "output_type": "stream",
          "name": "stdout",
          "text": [
            "87/87 [==============================] - 4s 39ms/step - loss: 0.1480 - accuracy: 0.9429 - val_loss: 0.0891 - val_accuracy: 0.9775 - lr: 0.0010\n",
            "Epoch 3/100\n",
            "87/87 [==============================] - 3s 39ms/step - loss: 0.0937 - accuracy: 0.9682 - val_loss: 0.6664 - val_accuracy: 0.8833 - lr: 0.0010\n",
            "Epoch 4/100\n",
            "87/87 [==============================] - 3s 36ms/step - loss: 0.0375 - accuracy: 0.9886 - val_loss: 0.2778 - val_accuracy: 0.9333 - lr: 0.0010\n",
            "Epoch 5/100\n",
            "87/87 [==============================] - 3s 39ms/step - loss: 0.0296 - accuracy: 0.9896 - val_loss: 0.7544 - val_accuracy: 0.8758 - lr: 0.0010\n",
            "Epoch 6/100\n",
            "87/87 [==============================] - 4s 43ms/step - loss: 0.0468 - accuracy: 0.9854 - val_loss: 0.1772 - val_accuracy: 0.9642 - lr: 0.0010\n",
            "Epoch 7/100\n",
            "87/87 [==============================] - 3s 36ms/step - loss: 0.0244 - accuracy: 0.9914 - val_loss: 0.2760 - val_accuracy: 0.9483 - lr: 0.0010\n",
            "Epoch 8/100\n",
            "87/87 [==============================] - 3s 36ms/step - loss: 0.0077 - accuracy: 0.9964 - val_loss: 0.4873 - val_accuracy: 0.8950 - lr: 0.0010\n",
            "Epoch 9/100\n",
            "88/87 [==============================] - ETA: 0s - loss: 0.0304 - accuracy: 0.9921\n",
            "Epoch 9: ReduceLROnPlateau reducing learning rate to 0.0005000000237487257.\n",
            "87/87 [==============================] - 4s 40ms/step - loss: 0.0304 - accuracy: 0.9921 - val_loss: 1.1480 - val_accuracy: 0.8275 - lr: 0.0010\n",
            "Epoch 10/100\n",
            "87/87 [==============================] - 4s 40ms/step - loss: 0.0137 - accuracy: 0.9968 - val_loss: 0.6461 - val_accuracy: 0.9300 - lr: 5.0000e-04\n",
            "Epoch 11/100\n",
            "87/87 [==============================] - 3s 35ms/step - loss: 0.0038 - accuracy: 0.9989 - val_loss: 0.8059 - val_accuracy: 0.8942 - lr: 5.0000e-04\n",
            "Epoch 12/100\n",
            "87/87 [==============================] - 3s 36ms/step - loss: 3.2029e-04 - accuracy: 1.0000 - val_loss: 0.7311 - val_accuracy: 0.9075 - lr: 5.0000e-04\n",
            "Epoch 13/100\n",
            "87/87 [==============================] - 4s 44ms/step - loss: 0.0033 - accuracy: 0.9986 - val_loss: 0.5102 - val_accuracy: 0.9100 - lr: 5.0000e-04\n",
            "Epoch 13: early stopping\n"
          ]
        }
      ]
    },
    {
      "cell_type": "code",
      "source": [
        "model.save('eye_model.h5')"
      ],
      "metadata": {
        "id": "Sfg9D7T07k_0"
      },
      "execution_count": null,
      "outputs": []
    },
    {
      "cell_type": "code",
      "source": [
        "model.evaluate(X_train, y_train)"
      ],
      "metadata": {
        "colab": {
          "base_uri": "https://localhost:8080/"
        },
        "id": "lnhcqeD1_y2o",
        "outputId": "8177216a-500a-45a9-a541-0e34e39a68be"
      },
      "execution_count": null,
      "outputs": [
        {
          "output_type": "stream",
          "name": "stdout",
          "text": [
            "88/88 [==============================] - 1s 6ms/step - loss: 6.3048e-05 - accuracy: 1.0000\n"
          ]
        },
        {
          "output_type": "execute_result",
          "data": {
            "text/plain": [
              "[6.304796988843009e-05, 1.0]"
            ]
          },
          "metadata": {},
          "execution_count": 23
        }
      ]
    },
    {
      "cell_type": "code",
      "source": [
        "from tensorflow.keras.models import load_model\n",
        "from tensorflow.keras.preprocessing import image\n",
        "import numpy as np\n",
        "\n",
        "# Load the trained model\n",
        "model = load_model('eye_model.h5')  # Replace with the path to your saved model\n",
        "\n",
        "# Load and preprocess the input image\n",
        "img_path = '/content/drive/MyDrive/closed.jpg'\n",
        "img = image.load_img(img_path, target_size=(48, 48), color_mode='grayscale')\n",
        "img_array = image.img_to_array(img)\n",
        "img_array = np.expand_dims(img_array, axis=0)  # Add batch dimension\n",
        "img_array /= 255.0  # Normalize pixel values to be between 0 and 1\n",
        "\n",
        "# Make predictions\n",
        "predictions = model.predict(img_array)\n",
        "\n",
        "# Assuming binary classification, use a threshold to decide the class\n",
        "threshold = 0.5\n",
        "predicted_class = 1 if predictions[0][0] > threshold else 0\n",
        "\n",
        "# Print the predictions\n",
        "print(\"Predictions:\", predictions)\n",
        "print(\"Predicted Class:\", predicted_class)\n"
      ],
      "metadata": {
        "colab": {
          "base_uri": "https://localhost:8080/"
        },
        "id": "VJ8eZY-KADEJ",
        "outputId": "b9502c5d-235f-4c75-91d2-2ca73d249e64"
      },
      "execution_count": null,
      "outputs": [
        {
          "output_type": "stream",
          "name": "stdout",
          "text": [
            "1/1 [==============================] - 1s 502ms/step\n",
            "Predictions: [[9.9981743e-01 1.8264557e-04]]\n",
            "Predicted Class: 1\n"
          ]
        }
      ]
    },
    {
      "cell_type": "code",
      "source": [
        "from tensorflow.keras.models import load_model\n",
        "from tensorflow.keras.preprocessing import image\n",
        "import numpy as np\n",
        "\n",
        "# Load the trained model\n",
        "model = load_model('eye_model.h5')  # Replace with the path to your saved model\n",
        "\n",
        "# Load and preprocess the input image\n",
        "img_path = '/content/drive/MyDrive/open1.jpg'\n",
        "img = image.load_img(img_path, target_size=(48, 48), color_mode='grayscale')\n",
        "img_array = image.img_to_array(img)\n",
        "img_array = np.expand_dims(img_array, axis=0)  # Add batch dimension\n",
        "img_array /= 255.0  # Normalize pixel values to be between 0 and 1\n",
        "\n",
        "# Make predictions\n",
        "predictions = model.predict(img_array)\n",
        "\n",
        "# Assuming binary classification, use a threshold to decide the class\n",
        "threshold = 0.5\n",
        "predicted_class = 1 if predictions[0][0] > threshold else 0\n",
        "\n",
        "# Print the predictions\n",
        "print(\"Predictions:\", predictions)\n",
        "print(\"Predicted Class:\", predicted_class)\n"
      ],
      "metadata": {
        "colab": {
          "base_uri": "https://localhost:8080/"
        },
        "id": "g8rZyJilEhdP",
        "outputId": "3ae9a41d-2a19-4079-af42-be24f5f81f4a"
      },
      "execution_count": null,
      "outputs": [
        {
          "output_type": "stream",
          "name": "stdout",
          "text": [
            "1/1 [==============================] - 0s 114ms/step\n",
            "Predictions: [[0. 1.]]\n",
            "Predicted Class: 0\n"
          ]
        }
      ]
    },
    {
      "cell_type": "code",
      "source": [
        "from tensorflow.keras.models import load_model\n",
        "from tensorflow.keras.preprocessing import image\n",
        "import numpy as np\n",
        "\n",
        "# Load the trained model\n",
        "model = load_model('eye_model.h5')  # Replace with the path to your saved model\n",
        "\n",
        "# Load and preprocess the input image\n",
        "img_path = '/content/drive/MyDrive/open_eyes.jpg'\n",
        "img = image.load_img(img_path, target_size=(48, 48), color_mode='grayscale')\n",
        "img_array = image.img_to_array(img)\n",
        "img_array = np.expand_dims(img_array, axis=0)  # Add batch dimension\n",
        "img_array /= 255.0  # Normalize pixel values to be between 0 and 1\n",
        "\n",
        "# Make predictions\n",
        "predictions = model.predict(img_array)\n",
        "\n",
        "# Assuming binary classification, use a threshold to decide the class\n",
        "threshold = 0.5\n",
        "predicted_class = 1 if predictions[0][0] > threshold else 0\n",
        "\n",
        "# Print the predictions\n",
        "print(\"Predictions:\", predictions)\n",
        "print(\"Predicted Class:\", predicted_class)\n"
      ],
      "metadata": {
        "colab": {
          "base_uri": "https://localhost:8080/"
        },
        "id": "Fel6G7LCA1IF",
        "outputId": "864773cc-e370-404c-9109-a3f0cd48b8d3"
      },
      "execution_count": null,
      "outputs": [
        {
          "output_type": "stream",
          "name": "stdout",
          "text": [
            "1/1 [==============================] - 0s 104ms/step\n",
            "Predictions: [[4.2793983e-21 1.0000000e+00]]\n",
            "Predicted Class: 0\n"
          ]
        }
      ]
    },
    {
      "cell_type": "code",
      "source": [
        "from google.colab import files\n",
        "\n",
        "files.download('model5.h5')"
      ],
      "metadata": {
        "colab": {
          "base_uri": "https://localhost:8080/",
          "height": 17
        },
        "id": "CA4o3MjR3qVr",
        "outputId": "fab2a5f3-93a0-4af8-bd66-bb53aae84e22"
      },
      "execution_count": null,
      "outputs": [
        {
          "output_type": "display_data",
          "data": {
            "text/plain": [
              "<IPython.core.display.Javascript object>"
            ],
            "application/javascript": [
              "\n",
              "    async function download(id, filename, size) {\n",
              "      if (!google.colab.kernel.accessAllowed) {\n",
              "        return;\n",
              "      }\n",
              "      const div = document.createElement('div');\n",
              "      const label = document.createElement('label');\n",
              "      label.textContent = `Downloading \"${filename}\": `;\n",
              "      div.appendChild(label);\n",
              "      const progress = document.createElement('progress');\n",
              "      progress.max = size;\n",
              "      div.appendChild(progress);\n",
              "      document.body.appendChild(div);\n",
              "\n",
              "      const buffers = [];\n",
              "      let downloaded = 0;\n",
              "\n",
              "      const channel = await google.colab.kernel.comms.open(id);\n",
              "      // Send a message to notify the kernel that we're ready.\n",
              "      channel.send({})\n",
              "\n",
              "      for await (const message of channel.messages) {\n",
              "        // Send a message to notify the kernel that we're ready.\n",
              "        channel.send({})\n",
              "        if (message.buffers) {\n",
              "          for (const buffer of message.buffers) {\n",
              "            buffers.push(buffer);\n",
              "            downloaded += buffer.byteLength;\n",
              "            progress.value = downloaded;\n",
              "          }\n",
              "        }\n",
              "      }\n",
              "      const blob = new Blob(buffers, {type: 'application/binary'});\n",
              "      const a = document.createElement('a');\n",
              "      a.href = window.URL.createObjectURL(blob);\n",
              "      a.download = filename;\n",
              "      div.appendChild(a);\n",
              "      a.click();\n",
              "      div.remove();\n",
              "    }\n",
              "  "
            ]
          },
          "metadata": {}
        },
        {
          "output_type": "display_data",
          "data": {
            "text/plain": [
              "<IPython.core.display.Javascript object>"
            ],
            "application/javascript": [
              "download(\"download_52d90642-f2ee-40ae-8e3a-16d27b9e4cbc\", \"model5.h5\", 16299008)"
            ]
          },
          "metadata": {}
        }
      ]
    }
  ]
}